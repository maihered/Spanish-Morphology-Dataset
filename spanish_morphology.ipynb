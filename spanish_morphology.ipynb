{
  "nbformat": 4,
  "nbformat_minor": 0,
  "metadata": {
    "colab": {
      "provenance": [],
      "toc_visible": true
    },
    "kernelspec": {
      "name": "python3",
      "display_name": "Python 3"
    },
    "language_info": {
      "name": "python"
    }
  },
  "cells": [
    {
      "cell_type": "markdown",
      "source": [
        "# Spanish morphology dataset creator"
      ],
      "metadata": {
        "id": "kH3l8QuW8tpR"
      }
    },
    {
      "cell_type": "markdown",
      "source": [
        "## Installations and imports"
      ],
      "metadata": {
        "id": "hMjrWSDZQdWv"
      }
    },
    {
      "cell_type": "code",
      "source": [
        "!pip install transformers\n",
        "!wget https://users.dcc.uchile.cl/~jperez/beto/cased_2M/pytorch_weights.tar.gz\n",
        "!wget https://users.dcc.uchile.cl/~jperez/beto/cased_2M/vocab.txt\n",
        "!wget https://users.dcc.uchile.cl/~jperez/beto/cased_2M/config.json\n",
        "!tar -xzvf pytorch_weights.tar.gz\n",
        "!mv config.json pytorch/.\n",
        "!mv vocab.txt pytorch/.\n",
        "\n",
        "!pip install -U spacy\n",
        "!python -m spacy download es_core_news_md"
      ],
      "metadata": {
        "colab": {
          "base_uri": "https://localhost:8080/"
        },
        "id": "7Sc81a9p81_2",
        "outputId": "7ba32ea1-48d3-4e53-8189-4f5c6017484a"
      },
      "execution_count": null,
      "outputs": [
        {
          "output_type": "stream",
          "name": "stdout",
          "text": [
            "Looking in indexes: https://pypi.org/simple, https://us-python.pkg.dev/colab-wheels/public/simple/\n",
            "Collecting transformers\n",
            "  Downloading transformers-4.27.3-py3-none-any.whl (6.8 MB)\n",
            "\u001b[2K     \u001b[90m━━━━━━━━━━━━━━━━━━━━━━━━━━━━━━━━━━━━━━━━\u001b[0m \u001b[32m6.8/6.8 MB\u001b[0m \u001b[31m29.9 MB/s\u001b[0m eta \u001b[36m0:00:00\u001b[0m\n",
            "\u001b[?25hRequirement already satisfied: regex!=2019.12.17 in /usr/local/lib/python3.9/dist-packages (from transformers) (2022.10.31)\n",
            "Requirement already satisfied: packaging>=20.0 in /usr/local/lib/python3.9/dist-packages (from transformers) (23.0)\n",
            "Collecting tokenizers!=0.11.3,<0.14,>=0.11.1\n",
            "  Downloading tokenizers-0.13.2-cp39-cp39-manylinux_2_17_x86_64.manylinux2014_x86_64.whl (7.6 MB)\n",
            "\u001b[2K     \u001b[90m━━━━━━━━━━━━━━━━━━━━━━━━━━━━━━━━━━━━━━━━\u001b[0m \u001b[32m7.6/7.6 MB\u001b[0m \u001b[31m44.9 MB/s\u001b[0m eta \u001b[36m0:00:00\u001b[0m\n",
            "\u001b[?25hRequirement already satisfied: pyyaml>=5.1 in /usr/local/lib/python3.9/dist-packages (from transformers) (6.0)\n",
            "Requirement already satisfied: tqdm>=4.27 in /usr/local/lib/python3.9/dist-packages (from transformers) (4.65.0)\n",
            "Collecting huggingface-hub<1.0,>=0.11.0\n",
            "  Downloading huggingface_hub-0.13.3-py3-none-any.whl (199 kB)\n",
            "\u001b[2K     \u001b[90m━━━━━━━━━━━━━━━━━━━━━━━━━━━━━━━━━━━━━━━\u001b[0m \u001b[32m199.8/199.8 KB\u001b[0m \u001b[31m6.1 MB/s\u001b[0m eta \u001b[36m0:00:00\u001b[0m\n",
            "\u001b[?25hRequirement already satisfied: numpy>=1.17 in /usr/local/lib/python3.9/dist-packages (from transformers) (1.22.4)\n",
            "Requirement already satisfied: requests in /usr/local/lib/python3.9/dist-packages (from transformers) (2.27.1)\n",
            "Requirement already satisfied: filelock in /usr/local/lib/python3.9/dist-packages (from transformers) (3.10.2)\n",
            "Requirement already satisfied: typing-extensions>=3.7.4.3 in /usr/local/lib/python3.9/dist-packages (from huggingface-hub<1.0,>=0.11.0->transformers) (4.5.0)\n",
            "Requirement already satisfied: urllib3<1.27,>=1.21.1 in /usr/local/lib/python3.9/dist-packages (from requests->transformers) (1.26.15)\n",
            "Requirement already satisfied: certifi>=2017.4.17 in /usr/local/lib/python3.9/dist-packages (from requests->transformers) (2022.12.7)\n",
            "Requirement already satisfied: charset-normalizer~=2.0.0 in /usr/local/lib/python3.9/dist-packages (from requests->transformers) (2.0.12)\n",
            "Requirement already satisfied: idna<4,>=2.5 in /usr/local/lib/python3.9/dist-packages (from requests->transformers) (3.4)\n",
            "Installing collected packages: tokenizers, huggingface-hub, transformers\n",
            "Successfully installed huggingface-hub-0.13.3 tokenizers-0.13.2 transformers-4.27.3\n",
            "--2023-03-27 16:45:08--  https://users.dcc.uchile.cl/~jperez/beto/cased_2M/pytorch_weights.tar.gz\n",
            "Resolving users.dcc.uchile.cl (users.dcc.uchile.cl)... 200.9.99.211, 192.80.24.4\n",
            "Connecting to users.dcc.uchile.cl (users.dcc.uchile.cl)|200.9.99.211|:443... connected.\n",
            "HTTP request sent, awaiting response... 200 OK\n",
            "Length: 409871727 (391M) [application/x-gzip]\n",
            "Saving to: ‘pytorch_weights.tar.gz’\n",
            "\n",
            "pytorch_weights.tar 100%[===================>] 390.88M  7.79MB/s    in 75s     \n",
            "\n",
            "2023-03-27 16:46:24 (5.24 MB/s) - ‘pytorch_weights.tar.gz’ saved [409871727/409871727]\n",
            "\n",
            "--2023-03-27 16:46:24--  https://users.dcc.uchile.cl/~jperez/beto/cased_2M/vocab.txt\n",
            "Resolving users.dcc.uchile.cl (users.dcc.uchile.cl)... 200.9.99.211, 192.80.24.4\n",
            "Connecting to users.dcc.uchile.cl (users.dcc.uchile.cl)|200.9.99.211|:443... connected.\n",
            "HTTP request sent, awaiting response... 200 OK\n",
            "Length: 242120 (236K) [text/plain]\n",
            "Saving to: ‘vocab.txt’\n",
            "\n",
            "vocab.txt           100%[===================>] 236.45K   430KB/s    in 0.6s    \n",
            "\n",
            "2023-03-27 16:46:25 (430 KB/s) - ‘vocab.txt’ saved [242120/242120]\n",
            "\n",
            "--2023-03-27 16:46:25--  https://users.dcc.uchile.cl/~jperez/beto/cased_2M/config.json\n",
            "Resolving users.dcc.uchile.cl (users.dcc.uchile.cl)... 200.9.99.211, 192.80.24.4\n",
            "Connecting to users.dcc.uchile.cl (users.dcc.uchile.cl)|200.9.99.211|:443... connected.\n",
            "HTTP request sent, awaiting response... 200 OK\n",
            "Length: 313 [application/json]\n",
            "Saving to: ‘config.json’\n",
            "\n",
            "config.json         100%[===================>]     313  --.-KB/s    in 0s      \n",
            "\n",
            "2023-03-27 16:46:26 (50.7 MB/s) - ‘config.json’ saved [313/313]\n",
            "\n",
            "pytorch/\n",
            "pytorch/pytorch_model.bin\n",
            "Looking in indexes: https://pypi.org/simple, https://us-python.pkg.dev/colab-wheels/public/simple/\n",
            "Requirement already satisfied: spacy in /usr/local/lib/python3.9/dist-packages (3.5.1)\n",
            "Requirement already satisfied: pydantic!=1.8,!=1.8.1,<1.11.0,>=1.7.4 in /usr/local/lib/python3.9/dist-packages (from spacy) (1.10.7)\n",
            "Requirement already satisfied: srsly<3.0.0,>=2.4.3 in /usr/local/lib/python3.9/dist-packages (from spacy) (2.4.6)\n",
            "Requirement already satisfied: pathy>=0.10.0 in /usr/local/lib/python3.9/dist-packages (from spacy) (0.10.1)\n",
            "Requirement already satisfied: langcodes<4.0.0,>=3.2.0 in /usr/local/lib/python3.9/dist-packages (from spacy) (3.3.0)\n",
            "Requirement already satisfied: jinja2 in /usr/local/lib/python3.9/dist-packages (from spacy) (3.1.2)\n",
            "Requirement already satisfied: requests<3.0.0,>=2.13.0 in /usr/local/lib/python3.9/dist-packages (from spacy) (2.27.1)\n",
            "Requirement already satisfied: spacy-legacy<3.1.0,>=3.0.11 in /usr/local/lib/python3.9/dist-packages (from spacy) (3.0.12)\n",
            "Requirement already satisfied: wasabi<1.2.0,>=0.9.1 in /usr/local/lib/python3.9/dist-packages (from spacy) (1.1.1)\n",
            "Requirement already satisfied: tqdm<5.0.0,>=4.38.0 in /usr/local/lib/python3.9/dist-packages (from spacy) (4.65.0)\n",
            "Requirement already satisfied: cymem<2.1.0,>=2.0.2 in /usr/local/lib/python3.9/dist-packages (from spacy) (2.0.7)\n",
            "Requirement already satisfied: spacy-loggers<2.0.0,>=1.0.0 in /usr/local/lib/python3.9/dist-packages (from spacy) (1.0.4)\n",
            "Requirement already satisfied: typer<0.8.0,>=0.3.0 in /usr/local/lib/python3.9/dist-packages (from spacy) (0.7.0)\n",
            "Requirement already satisfied: smart-open<7.0.0,>=5.2.1 in /usr/local/lib/python3.9/dist-packages (from spacy) (6.3.0)\n",
            "Requirement already satisfied: numpy>=1.15.0 in /usr/local/lib/python3.9/dist-packages (from spacy) (1.22.4)\n",
            "Requirement already satisfied: setuptools in /usr/local/lib/python3.9/dist-packages (from spacy) (67.6.0)\n",
            "Requirement already satisfied: catalogue<2.1.0,>=2.0.6 in /usr/local/lib/python3.9/dist-packages (from spacy) (2.0.8)\n",
            "Requirement already satisfied: murmurhash<1.1.0,>=0.28.0 in /usr/local/lib/python3.9/dist-packages (from spacy) (1.0.9)\n",
            "Requirement already satisfied: packaging>=20.0 in /usr/local/lib/python3.9/dist-packages (from spacy) (23.0)\n",
            "Requirement already satisfied: preshed<3.1.0,>=3.0.2 in /usr/local/lib/python3.9/dist-packages (from spacy) (3.0.8)\n",
            "Requirement already satisfied: thinc<8.2.0,>=8.1.8 in /usr/local/lib/python3.9/dist-packages (from spacy) (8.1.9)\n",
            "Requirement already satisfied: typing-extensions>=4.2.0 in /usr/local/lib/python3.9/dist-packages (from pydantic!=1.8,!=1.8.1,<1.11.0,>=1.7.4->spacy) (4.5.0)\n",
            "Requirement already satisfied: certifi>=2017.4.17 in /usr/local/lib/python3.9/dist-packages (from requests<3.0.0,>=2.13.0->spacy) (2022.12.7)\n",
            "Requirement already satisfied: idna<4,>=2.5 in /usr/local/lib/python3.9/dist-packages (from requests<3.0.0,>=2.13.0->spacy) (3.4)\n",
            "Requirement already satisfied: urllib3<1.27,>=1.21.1 in /usr/local/lib/python3.9/dist-packages (from requests<3.0.0,>=2.13.0->spacy) (1.26.15)\n",
            "Requirement already satisfied: charset-normalizer~=2.0.0 in /usr/local/lib/python3.9/dist-packages (from requests<3.0.0,>=2.13.0->spacy) (2.0.12)\n",
            "Requirement already satisfied: confection<1.0.0,>=0.0.1 in /usr/local/lib/python3.9/dist-packages (from thinc<8.2.0,>=8.1.8->spacy) (0.0.4)\n",
            "Requirement already satisfied: blis<0.8.0,>=0.7.8 in /usr/local/lib/python3.9/dist-packages (from thinc<8.2.0,>=8.1.8->spacy) (0.7.9)\n",
            "Requirement already satisfied: click<9.0.0,>=7.1.1 in /usr/local/lib/python3.9/dist-packages (from typer<0.8.0,>=0.3.0->spacy) (8.1.3)\n",
            "Requirement already satisfied: MarkupSafe>=2.0 in /usr/local/lib/python3.9/dist-packages (from jinja2->spacy) (2.1.2)\n",
            "/usr/local/lib/python3.9/dist-packages/torch/cuda/__init__.py:497: UserWarning: Can't initialize NVML\n",
            "  warnings.warn(\"Can't initialize NVML\")\n",
            "2023-03-27 16:46:42.421351: I tensorflow/core/platform/cpu_feature_guard.cc:193] This TensorFlow binary is optimized with oneAPI Deep Neural Network Library (oneDNN) to use the following CPU instructions in performance-critical operations:  AVX2 FMA\n",
            "To enable them in other operations, rebuild TensorFlow with the appropriate compiler flags.\n",
            "2023-03-27 16:46:44.206010: W tensorflow/compiler/xla/stream_executor/platform/default/dso_loader.cc:64] Could not load dynamic library 'libnvinfer.so.7'; dlerror: libnvinfer.so.7: cannot open shared object file: No such file or directory; LD_LIBRARY_PATH: /usr/local/nvidia/lib:/usr/local/nvidia/lib64\n",
            "2023-03-27 16:46:44.206138: W tensorflow/compiler/xla/stream_executor/platform/default/dso_loader.cc:64] Could not load dynamic library 'libnvinfer_plugin.so.7'; dlerror: libnvinfer_plugin.so.7: cannot open shared object file: No such file or directory; LD_LIBRARY_PATH: /usr/local/nvidia/lib:/usr/local/nvidia/lib64\n",
            "2023-03-27 16:46:44.206162: W tensorflow/compiler/tf2tensorrt/utils/py_utils.cc:38] TF-TRT Warning: Cannot dlopen some TensorRT libraries. If you would like to use Nvidia GPU with TensorRT, please make sure the missing libraries mentioned above are installed properly.\n",
            "2023-03-27 16:46:46.495293: E tensorflow/compiler/xla/stream_executor/cuda/cuda_driver.cc:267] failed call to cuInit: CUDA_ERROR_NO_DEVICE: no CUDA-capable device is detected\n",
            "Looking in indexes: https://pypi.org/simple, https://us-python.pkg.dev/colab-wheels/public/simple/\n",
            "Collecting es-core-news-md==3.5.0\n",
            "  Downloading https://github.com/explosion/spacy-models/releases/download/es_core_news_md-3.5.0/es_core_news_md-3.5.0-py3-none-any.whl (42.3 MB)\n",
            "\u001b[2K     \u001b[90m━━━━━━━━━━━━━━━━━━━━━━━━━━━━━━━━━━━━━━━━\u001b[0m \u001b[32m42.3/42.3 MB\u001b[0m \u001b[31m18.5 MB/s\u001b[0m eta \u001b[36m0:00:00\u001b[0m\n",
            "\u001b[?25hRequirement already satisfied: spacy<3.6.0,>=3.5.0 in /usr/local/lib/python3.9/dist-packages (from es-core-news-md==3.5.0) (3.5.1)\n",
            "Requirement already satisfied: requests<3.0.0,>=2.13.0 in /usr/local/lib/python3.9/dist-packages (from spacy<3.6.0,>=3.5.0->es-core-news-md==3.5.0) (2.27.1)\n",
            "Requirement already satisfied: spacy-legacy<3.1.0,>=3.0.11 in /usr/local/lib/python3.9/dist-packages (from spacy<3.6.0,>=3.5.0->es-core-news-md==3.5.0) (3.0.12)\n",
            "Requirement already satisfied: setuptools in /usr/local/lib/python3.9/dist-packages (from spacy<3.6.0,>=3.5.0->es-core-news-md==3.5.0) (67.6.0)\n",
            "Requirement already satisfied: jinja2 in /usr/local/lib/python3.9/dist-packages (from spacy<3.6.0,>=3.5.0->es-core-news-md==3.5.0) (3.1.2)\n",
            "Requirement already satisfied: srsly<3.0.0,>=2.4.3 in /usr/local/lib/python3.9/dist-packages (from spacy<3.6.0,>=3.5.0->es-core-news-md==3.5.0) (2.4.6)\n",
            "Requirement already satisfied: tqdm<5.0.0,>=4.38.0 in /usr/local/lib/python3.9/dist-packages (from spacy<3.6.0,>=3.5.0->es-core-news-md==3.5.0) (4.65.0)\n",
            "Requirement already satisfied: langcodes<4.0.0,>=3.2.0 in /usr/local/lib/python3.9/dist-packages (from spacy<3.6.0,>=3.5.0->es-core-news-md==3.5.0) (3.3.0)\n",
            "Requirement already satisfied: smart-open<7.0.0,>=5.2.1 in /usr/local/lib/python3.9/dist-packages (from spacy<3.6.0,>=3.5.0->es-core-news-md==3.5.0) (6.3.0)\n",
            "Requirement already satisfied: murmurhash<1.1.0,>=0.28.0 in /usr/local/lib/python3.9/dist-packages (from spacy<3.6.0,>=3.5.0->es-core-news-md==3.5.0) (1.0.9)\n",
            "Requirement already satisfied: catalogue<2.1.0,>=2.0.6 in /usr/local/lib/python3.9/dist-packages (from spacy<3.6.0,>=3.5.0->es-core-news-md==3.5.0) (2.0.8)\n",
            "Requirement already satisfied: preshed<3.1.0,>=3.0.2 in /usr/local/lib/python3.9/dist-packages (from spacy<3.6.0,>=3.5.0->es-core-news-md==3.5.0) (3.0.8)\n",
            "Requirement already satisfied: thinc<8.2.0,>=8.1.8 in /usr/local/lib/python3.9/dist-packages (from spacy<3.6.0,>=3.5.0->es-core-news-md==3.5.0) (8.1.9)\n",
            "Requirement already satisfied: pathy>=0.10.0 in /usr/local/lib/python3.9/dist-packages (from spacy<3.6.0,>=3.5.0->es-core-news-md==3.5.0) (0.10.1)\n",
            "Requirement already satisfied: numpy>=1.15.0 in /usr/local/lib/python3.9/dist-packages (from spacy<3.6.0,>=3.5.0->es-core-news-md==3.5.0) (1.22.4)\n",
            "Requirement already satisfied: cymem<2.1.0,>=2.0.2 in /usr/local/lib/python3.9/dist-packages (from spacy<3.6.0,>=3.5.0->es-core-news-md==3.5.0) (2.0.7)\n",
            "Requirement already satisfied: spacy-loggers<2.0.0,>=1.0.0 in /usr/local/lib/python3.9/dist-packages (from spacy<3.6.0,>=3.5.0->es-core-news-md==3.5.0) (1.0.4)\n",
            "Requirement already satisfied: pydantic!=1.8,!=1.8.1,<1.11.0,>=1.7.4 in /usr/local/lib/python3.9/dist-packages (from spacy<3.6.0,>=3.5.0->es-core-news-md==3.5.0) (1.10.7)\n",
            "Requirement already satisfied: typer<0.8.0,>=0.3.0 in /usr/local/lib/python3.9/dist-packages (from spacy<3.6.0,>=3.5.0->es-core-news-md==3.5.0) (0.7.0)\n",
            "Requirement already satisfied: wasabi<1.2.0,>=0.9.1 in /usr/local/lib/python3.9/dist-packages (from spacy<3.6.0,>=3.5.0->es-core-news-md==3.5.0) (1.1.1)\n",
            "Requirement already satisfied: packaging>=20.0 in /usr/local/lib/python3.9/dist-packages (from spacy<3.6.0,>=3.5.0->es-core-news-md==3.5.0) (23.0)\n",
            "Requirement already satisfied: typing-extensions>=4.2.0 in /usr/local/lib/python3.9/dist-packages (from pydantic!=1.8,!=1.8.1,<1.11.0,>=1.7.4->spacy<3.6.0,>=3.5.0->es-core-news-md==3.5.0) (4.5.0)\n",
            "Requirement already satisfied: idna<4,>=2.5 in /usr/local/lib/python3.9/dist-packages (from requests<3.0.0,>=2.13.0->spacy<3.6.0,>=3.5.0->es-core-news-md==3.5.0) (3.4)\n",
            "Requirement already satisfied: certifi>=2017.4.17 in /usr/local/lib/python3.9/dist-packages (from requests<3.0.0,>=2.13.0->spacy<3.6.0,>=3.5.0->es-core-news-md==3.5.0) (2022.12.7)\n",
            "Requirement already satisfied: urllib3<1.27,>=1.21.1 in /usr/local/lib/python3.9/dist-packages (from requests<3.0.0,>=2.13.0->spacy<3.6.0,>=3.5.0->es-core-news-md==3.5.0) (1.26.15)\n",
            "Requirement already satisfied: charset-normalizer~=2.0.0 in /usr/local/lib/python3.9/dist-packages (from requests<3.0.0,>=2.13.0->spacy<3.6.0,>=3.5.0->es-core-news-md==3.5.0) (2.0.12)\n",
            "Requirement already satisfied: confection<1.0.0,>=0.0.1 in /usr/local/lib/python3.9/dist-packages (from thinc<8.2.0,>=8.1.8->spacy<3.6.0,>=3.5.0->es-core-news-md==3.5.0) (0.0.4)\n",
            "Requirement already satisfied: blis<0.8.0,>=0.7.8 in /usr/local/lib/python3.9/dist-packages (from thinc<8.2.0,>=8.1.8->spacy<3.6.0,>=3.5.0->es-core-news-md==3.5.0) (0.7.9)\n",
            "Requirement already satisfied: click<9.0.0,>=7.1.1 in /usr/local/lib/python3.9/dist-packages (from typer<0.8.0,>=0.3.0->spacy<3.6.0,>=3.5.0->es-core-news-md==3.5.0) (8.1.3)\n",
            "Requirement already satisfied: MarkupSafe>=2.0 in /usr/local/lib/python3.9/dist-packages (from jinja2->spacy<3.6.0,>=3.5.0->es-core-news-md==3.5.0) (2.1.2)\n",
            "Installing collected packages: es-core-news-md\n",
            "Successfully installed es-core-news-md-3.5.0\n",
            "\u001b[38;5;2m✔ Download and installation successful\u001b[0m\n",
            "You can now load the package via spacy.load('es_core_news_md')\n"
          ]
        }
      ]
    },
    {
      "cell_type": "code",
      "source": [
        "from transformers import BertTokenizer\n",
        "import pandas as pd\n",
        "import spacy\n",
        "import re\n",
        "import os"
      ],
      "metadata": {
        "colab": {
          "base_uri": "https://localhost:8080/"
        },
        "id": "k-msdg5X8383",
        "outputId": "2ade47a3-bb8f-4d3b-d2dc-1d6c805a06cd"
      },
      "execution_count": null,
      "outputs": [
        {
          "output_type": "stream",
          "name": "stderr",
          "text": [
            "/usr/local/lib/python3.9/dist-packages/torch/cuda/__init__.py:497: UserWarning: Can't initialize NVML\n",
            "  warnings.warn(\"Can't initialize NVML\")\n"
          ]
        }
      ]
    },
    {
      "cell_type": "markdown",
      "source": [
        "## Mount Google Drive"
      ],
      "metadata": {
        "id": "MJ2S7iWLQs1W"
      }
    },
    {
      "cell_type": "code",
      "source": [
        "from google.colab import drive\n",
        "drive.mount('/content/drive')"
      ],
      "metadata": {
        "colab": {
          "base_uri": "https://localhost:8080/"
        },
        "id": "BKNTgEJ_9Uuu",
        "outputId": "ddf05f3f-62a7-4713-fc36-0e62ede870e7"
      },
      "execution_count": null,
      "outputs": [
        {
          "output_type": "stream",
          "name": "stdout",
          "text": [
            "Mounted at /content/drive\n"
          ]
        }
      ]
    },
    {
      "cell_type": "markdown",
      "source": [
        "## Create the tokenizer and the model"
      ],
      "metadata": {
        "id": "JDKXD9rlQveP"
      }
    },
    {
      "cell_type": "code",
      "source": [
        "tokenizer = BertTokenizer.from_pretrained(\"pytorch/\", do_lower_case=False)\n",
        "vocab = tokenizer.get_vocab() # len = 31002 tokens"
      ],
      "metadata": {
        "id": "r9Pq7xtK86VH"
      },
      "execution_count": null,
      "outputs": []
    },
    {
      "cell_type": "markdown",
      "source": [
        "## Optional: create the first lists of affixes from morphynet"
      ],
      "metadata": {
        "id": "Rmhu69PjQ185"
      }
    },
    {
      "cell_type": "code",
      "source": [
        "# derivatives_path = '/content/drive/MyDrive/Colab Notebooks/spanish-morphology/data/spa.derivational.v1.tsv'\n",
        "# affix_df = pd.read_csv(derivatives_path, sep = \"\\t\", header = None, usecols = [4,5])\n",
        "# pref_list = []\n",
        "# suf_list = []\n",
        "# for index, row in affix_df.iterrows():\n",
        "#   if row[5] == 'prefix':\n",
        "#     if row[4] in vocab.keys():\n",
        "#       pref_list.append(row[4])\n",
        "#   if row[5] == 'suffix':\n",
        "#     if \"##\"+row[4] in vocab.keys():\n",
        "#       suf_list.append(row[4])\n",
        "# pref_list = list(set(pref_list))\n",
        "# suf_list = list(set(suf_list))\n",
        "# pd.DataFrame(pref_list).to_csv(\"/content/drive/MyDrive/Colab Notebooks/spanish-morphology/data/all-prefixes.csv\")\n",
        "# pd.DataFrame(suf_list).to_csv(\"/content/drive/MyDrive/Colab Notebooks/spanish-morphology/data/all-suffixes.csv\")"
      ],
      "metadata": {
        "id": "hsEWidcb88h_"
      },
      "execution_count": null,
      "outputs": []
    },
    {
      "cell_type": "markdown",
      "source": [
        "## Read  manually created list of prefixes and suffixes"
      ],
      "metadata": {
        "id": "ZfoqdHxaRD-_"
      }
    },
    {
      "cell_type": "code",
      "source": [
        "final_pref = pd.read_csv(\"/content/drive/MyDrive/Colab Notebooks/spanish-morphology/data/es-final-pref.csv\", header=None)\n",
        "final_suf = pd.read_csv(\"/content/drive/MyDrive/Colab Notebooks/spanish-morphology/data/es-final-suf.csv\", header=None)"
      ],
      "metadata": {
        "id": "n4YG3oyFB0WJ"
      },
      "execution_count": null,
      "outputs": []
    },
    {
      "cell_type": "markdown",
      "source": [
        "## Load the tokenizer"
      ],
      "metadata": {
        "id": "oSWh_SPfRJIX"
      }
    },
    {
      "cell_type": "code",
      "source": [
        "nlp = spacy.load(\"es_core_news_md\")"
      ],
      "metadata": {
        "id": "8btl2slPCAJ3"
      },
      "execution_count": null,
      "outputs": []
    },
    {
      "cell_type": "markdown",
      "source": [
        "## Iterate through all texts and extract both datasets "
      ],
      "metadata": {
        "id": "dJKU7QsKRLKh"
      }
    },
    {
      "cell_type": "code",
      "source": [
        "import time\n",
        "start = time.time()\n",
        "\n",
        "prefix_dataset = pd.DataFrame(columns=['derivative', 'base', 'sentence'])\n",
        "suffix_dataset = pd.DataFrame(columns=['derivative', 'base', 'sentence'])\n",
        "rootdir = '/content/drive/MyDrive/Colab Notebooks/spanish-morphology/data/text/AA'\n",
        "for subdir, dirs, files in os.walk(rootdir):\n",
        "    for file in files:\n",
        "        path = os.path.join(subdir, file)\n",
        "        print(path)\n",
        "\n",
        "        #preprocessing\n",
        "        with open(path,'r') as f:\n",
        "            file = f.read().split(\".\")\n",
        "        def clean_text(line):\n",
        "            line = re.sub(r'-+',' ',line)\n",
        "            line = re.sub(r'[^a-zA-Z, áéíóúÁÉÍÓÚüÜñÑ]+',\" \",line)\n",
        "            line = re.sub(r'[ ]+',\" \",line)\n",
        "            line += \".\"\n",
        "            return line\n",
        "        text_lst = []\n",
        "        for line in file:\n",
        "          line = clean_text(line)\n",
        "          text_lst.append(line)\n",
        "        \n",
        "        for line in text_lst:\n",
        "          #prefix\n",
        "          for index, row in final_pref.iterrows():\n",
        "            prefix = row[0]\n",
        "            derivative = re.search(r'\\b'+prefix+'[a-zA-Z0-9ñÑáéíóúÁÉÍÓÚüÜñÑ]+',line)\n",
        "            if derivative:\n",
        "              base = re.search(r'(?<=\\b'+prefix+')[a-zA-Z0-9ñÑáéíóúÁÉÍÓÚüÜñÑ]+',line).group(0)\n",
        "              base_spacy = nlp(base)\n",
        "              lemma = base_spacy[0].lemma_\n",
        "              if lemma in vocab.keys() and len(lemma)>3:\n",
        "                sentence = line.replace(derivative.group(0), '[MASK]')\n",
        "                crow = pd.DataFrame.from_dict({'derivative':[derivative.group(0)],'base':[lemma],'sentence': [sentence]})\n",
        "                prefix_dataset = pd.concat([prefix_dataset,crow], ignore_index=True)\n",
        "                break\n",
        "\n",
        "          #suffix\n",
        "          for index, row in final_suf.iterrows():\n",
        "            suffix = row[0]\n",
        "            derivative = re.search(r'[a-zA-Z0-9ñÑáéíóúÁÉÍÓÚüÜñÑ]+'+suffix+r'\\b',line)\n",
        "            if derivative:\n",
        "              base = re.search(r'[a-zA-Z0-9ñÑáéíóúÁÉÍÓÚüÜñÑ]+(?='+suffix+r'\\b)',line).group(0)\n",
        "              base_spacy = nlp(base)\n",
        "              lemma = base_spacy[0].lemma_\n",
        "              if lemma in vocab.keys() and len(lemma)>3:\n",
        "                sentence = line.replace(derivative.group(0), '[MASK]')\n",
        "                crow = pd.DataFrame.from_dict({'derivative':[derivative.group(0)],'base':[lemma],'sentence': [sentence]})\n",
        "                suffix_dataset = pd.concat([suffix_dataset,crow], ignore_index=True)\n",
        "                break\n",
        "\n",
        "        end = time.time()\n",
        "        print(\"Document processed\")\n",
        "        print(end - start)"
      ],
      "metadata": {
        "colab": {
          "base_uri": "https://localhost:8080/"
        },
        "id": "1qZJZyXteF0Y",
        "outputId": "8bff4c7a-1f25-4799-c6dc-09151650301a"
      },
      "execution_count": null,
      "outputs": [
        {
          "output_type": "stream",
          "name": "stdout",
          "text": [
            "/content/drive/MyDrive/Colab Notebooks/spanish-morphology/data/text/AA/wiki_76\n",
            "Document processed\n",
            "122.79730749130249\n",
            "/content/drive/MyDrive/Colab Notebooks/spanish-morphology/data/text/AA/wiki_20\n",
            "Document processed\n",
            "268.5384976863861\n",
            "/content/drive/MyDrive/Colab Notebooks/spanish-morphology/data/text/AA/wiki_17\n",
            "Document processed\n",
            "405.95993733406067\n",
            "/content/drive/MyDrive/Colab Notebooks/spanish-morphology/data/text/AA/wiki_12\n",
            "Document processed\n",
            "529.8944702148438\n",
            "/content/drive/MyDrive/Colab Notebooks/spanish-morphology/data/text/AA/wiki_16\n",
            "Document processed\n",
            "657.037778377533\n",
            "/content/drive/MyDrive/Colab Notebooks/spanish-morphology/data/text/AA/wiki_13\n",
            "Document processed\n",
            "784.2273368835449\n",
            "/content/drive/MyDrive/Colab Notebooks/spanish-morphology/data/text/AA/wiki_11\n",
            "Document processed\n",
            "915.7347667217255\n",
            "/content/drive/MyDrive/Colab Notebooks/spanish-morphology/data/text/AA/wiki_10\n",
            "Document processed\n",
            "1038.8724496364594\n",
            "/content/drive/MyDrive/Colab Notebooks/spanish-morphology/data/text/AA/wiki_07\n",
            "Document processed\n",
            "1171.3304340839386\n",
            "/content/drive/MyDrive/Colab Notebooks/spanish-morphology/data/text/AA/wiki_09\n",
            "Document processed\n",
            "1304.9708926677704\n",
            "/content/drive/MyDrive/Colab Notebooks/spanish-morphology/data/text/AA/wiki_05\n",
            "Document processed\n",
            "1435.0788321495056\n",
            "/content/drive/MyDrive/Colab Notebooks/spanish-morphology/data/text/AA/wiki_08\n",
            "Document processed\n",
            "1569.4408547878265\n",
            "/content/drive/MyDrive/Colab Notebooks/spanish-morphology/data/text/AA/wiki_02\n",
            "Document processed\n",
            "1708.2813329696655\n",
            "/content/drive/MyDrive/Colab Notebooks/spanish-morphology/data/text/AA/wiki_01\n",
            "Document processed\n",
            "1844.9418280124664\n",
            "/content/drive/MyDrive/Colab Notebooks/spanish-morphology/data/text/AA/wiki_04\n",
            "Document processed\n",
            "1984.5448126792908\n",
            "/content/drive/MyDrive/Colab Notebooks/spanish-morphology/data/text/AA/wiki_06\n",
            "Document processed\n",
            "2121.345225095749\n",
            "/content/drive/MyDrive/Colab Notebooks/spanish-morphology/data/text/AA/wiki_03\n",
            "Document processed\n",
            "2257.7294387817383\n",
            "/content/drive/MyDrive/Colab Notebooks/spanish-morphology/data/text/AA/wiki_00\n",
            "Document processed\n",
            "2389.8973021507263\n",
            "/content/drive/MyDrive/Colab Notebooks/spanish-morphology/data/text/AA/wiki_57\n",
            "Document processed\n",
            "2528.4950499534607\n",
            "/content/drive/MyDrive/Colab Notebooks/spanish-morphology/data/text/AA/wiki_60\n",
            "Document processed\n",
            "2665.3325951099396\n",
            "/content/drive/MyDrive/Colab Notebooks/spanish-morphology/data/text/AA/wiki_55\n",
            "Document processed\n",
            "2812.9964632987976\n",
            "/content/drive/MyDrive/Colab Notebooks/spanish-morphology/data/text/AA/wiki_54\n",
            "Document processed\n",
            "2959.8180696964264\n",
            "/content/drive/MyDrive/Colab Notebooks/spanish-morphology/data/text/AA/wiki_56\n",
            "Document processed\n",
            "3105.911008834839\n",
            "/content/drive/MyDrive/Colab Notebooks/spanish-morphology/data/text/AA/wiki_52\n",
            "Document processed\n",
            "3258.692859172821\n",
            "/content/drive/MyDrive/Colab Notebooks/spanish-morphology/data/text/AA/wiki_53\n",
            "Document processed\n",
            "3399.570960521698\n",
            "/content/drive/MyDrive/Colab Notebooks/spanish-morphology/data/text/AA/wiki_51\n",
            "Document processed\n",
            "3545.7832505702972\n",
            "/content/drive/MyDrive/Colab Notebooks/spanish-morphology/data/text/AA/wiki_50\n",
            "Document processed\n",
            "3696.113209962845\n",
            "/content/drive/MyDrive/Colab Notebooks/spanish-morphology/data/text/AA/wiki_49\n",
            "Document processed\n",
            "3842.349892616272\n",
            "/content/drive/MyDrive/Colab Notebooks/spanish-morphology/data/text/AA/wiki_47\n",
            "Document processed\n",
            "3991.6385674476624\n",
            "/content/drive/MyDrive/Colab Notebooks/spanish-morphology/data/text/AA/wiki_45\n",
            "Document processed\n",
            "4139.9283401966095\n",
            "/content/drive/MyDrive/Colab Notebooks/spanish-morphology/data/text/AA/wiki_48\n",
            "Document processed\n",
            "4286.854973554611\n",
            "/content/drive/MyDrive/Colab Notebooks/spanish-morphology/data/text/AA/wiki_44\n",
            "Document processed\n",
            "4441.3482921123505\n",
            "/content/drive/MyDrive/Colab Notebooks/spanish-morphology/data/text/AA/wiki_46\n",
            "Document processed\n",
            "4609.938433408737\n",
            "/content/drive/MyDrive/Colab Notebooks/spanish-morphology/data/text/AA/wiki_43\n",
            "Document processed\n",
            "4770.606022834778\n",
            "/content/drive/MyDrive/Colab Notebooks/spanish-morphology/data/text/AA/wiki_42\n",
            "Document processed\n",
            "4928.8147315979\n",
            "/content/drive/MyDrive/Colab Notebooks/spanish-morphology/data/text/AA/wiki_41\n",
            "Document processed\n",
            "5091.895944595337\n",
            "/content/drive/MyDrive/Colab Notebooks/spanish-morphology/data/text/AA/wiki_40\n",
            "Document processed\n",
            "5249.579703092575\n",
            "/content/drive/MyDrive/Colab Notebooks/spanish-morphology/data/text/AA/wiki_38\n",
            "Document processed\n",
            "5414.022634983063\n",
            "/content/drive/MyDrive/Colab Notebooks/spanish-morphology/data/text/AA/wiki_39\n",
            "Document processed\n",
            "5574.592285871506\n",
            "/content/drive/MyDrive/Colab Notebooks/spanish-morphology/data/text/AA/wiki_33\n",
            "Document processed\n",
            "5740.443370580673\n",
            "/content/drive/MyDrive/Colab Notebooks/spanish-morphology/data/text/AA/wiki_37\n",
            "Document processed\n",
            "5898.750234603882\n",
            "/content/drive/MyDrive/Colab Notebooks/spanish-morphology/data/text/AA/wiki_34\n",
            "Document processed\n",
            "6064.770565748215\n",
            "/content/drive/MyDrive/Colab Notebooks/spanish-morphology/data/text/AA/wiki_36\n",
            "Document processed\n",
            "6239.965161323547\n",
            "/content/drive/MyDrive/Colab Notebooks/spanish-morphology/data/text/AA/wiki_32\n",
            "Document processed\n",
            "6406.575227499008\n",
            "/content/drive/MyDrive/Colab Notebooks/spanish-morphology/data/text/AA/wiki_35\n",
            "Document processed\n",
            "6579.909081935883\n",
            "/content/drive/MyDrive/Colab Notebooks/spanish-morphology/data/text/AA/wiki_31\n",
            "Document processed\n",
            "6752.729626655579\n",
            "/content/drive/MyDrive/Colab Notebooks/spanish-morphology/data/text/AA/wiki_29\n",
            "Document processed\n",
            "6921.767024278641\n",
            "/content/drive/MyDrive/Colab Notebooks/spanish-morphology/data/text/AA/wiki_27\n",
            "Document processed\n",
            "7087.040566682816\n",
            "/content/drive/MyDrive/Colab Notebooks/spanish-morphology/data/text/AA/wiki_28\n",
            "Document processed\n",
            "7257.16418838501\n",
            "/content/drive/MyDrive/Colab Notebooks/spanish-morphology/data/text/AA/wiki_24\n",
            "Document processed\n",
            "7419.006010770798\n",
            "/content/drive/MyDrive/Colab Notebooks/spanish-morphology/data/text/AA/wiki_22\n",
            "Document processed\n",
            "7580.589352607727\n",
            "/content/drive/MyDrive/Colab Notebooks/spanish-morphology/data/text/AA/wiki_30\n",
            "Document processed\n",
            "7768.2485156059265\n",
            "/content/drive/MyDrive/Colab Notebooks/spanish-morphology/data/text/AA/wiki_21\n",
            "Document processed\n",
            "7952.095018386841\n",
            "/content/drive/MyDrive/Colab Notebooks/spanish-morphology/data/text/AA/wiki_26\n",
            "Document processed\n",
            "8134.31107878685\n",
            "/content/drive/MyDrive/Colab Notebooks/spanish-morphology/data/text/AA/wiki_23\n",
            "Document processed\n",
            "8315.094540834427\n",
            "/content/drive/MyDrive/Colab Notebooks/spanish-morphology/data/text/AA/wiki_25\n",
            "Document processed\n",
            "8500.21343922615\n",
            "/content/drive/MyDrive/Colab Notebooks/spanish-morphology/data/text/AA/wiki_19\n",
            "Document processed\n",
            "8683.029727458954\n",
            "/content/drive/MyDrive/Colab Notebooks/spanish-morphology/data/text/AA/wiki_18\n",
            "Document processed\n",
            "8869.868936538696\n",
            "/content/drive/MyDrive/Colab Notebooks/spanish-morphology/data/text/AA/wiki_15\n",
            "Document processed\n",
            "9055.768902540207\n",
            "/content/drive/MyDrive/Colab Notebooks/spanish-morphology/data/text/AA/wiki_14\n",
            "Document processed\n",
            "9237.126169681549\n",
            "/content/drive/MyDrive/Colab Notebooks/spanish-morphology/data/text/AA/wiki_89\n",
            "Document processed\n",
            "9419.359729528427\n",
            "/content/drive/MyDrive/Colab Notebooks/spanish-morphology/data/text/AA/wiki_85\n",
            "Document processed\n",
            "9617.77357673645\n",
            "/content/drive/MyDrive/Colab Notebooks/spanish-morphology/data/text/AA/wiki_88\n",
            "Document processed\n",
            "9807.95599269867\n",
            "/content/drive/MyDrive/Colab Notebooks/spanish-morphology/data/text/AA/wiki_82\n",
            "Document processed\n",
            "10005.400160074234\n",
            "/content/drive/MyDrive/Colab Notebooks/spanish-morphology/data/text/AA/wiki_87\n",
            "Document processed\n",
            "10202.520247459412\n",
            "/content/drive/MyDrive/Colab Notebooks/spanish-morphology/data/text/AA/wiki_83\n",
            "Document processed\n",
            "10400.256960630417\n",
            "/content/drive/MyDrive/Colab Notebooks/spanish-morphology/data/text/AA/wiki_84\n",
            "Document processed\n",
            "10601.191981554031\n",
            "/content/drive/MyDrive/Colab Notebooks/spanish-morphology/data/text/AA/wiki_78\n",
            "Document processed\n",
            "10800.69383764267\n",
            "/content/drive/MyDrive/Colab Notebooks/spanish-morphology/data/text/AA/wiki_81\n",
            "Document processed\n",
            "11004.786198854446\n",
            "/content/drive/MyDrive/Colab Notebooks/spanish-morphology/data/text/AA/wiki_80\n",
            "Document processed\n",
            "11206.333630561829\n",
            "/content/drive/MyDrive/Colab Notebooks/spanish-morphology/data/text/AA/wiki_74\n",
            "Document processed\n",
            "11403.729235887527\n",
            "/content/drive/MyDrive/Colab Notebooks/spanish-morphology/data/text/AA/wiki_79\n",
            "Document processed\n",
            "11608.42559671402\n",
            "/content/drive/MyDrive/Colab Notebooks/spanish-morphology/data/text/AA/wiki_75\n",
            "Document processed\n",
            "11804.48322558403\n",
            "/content/drive/MyDrive/Colab Notebooks/spanish-morphology/data/text/AA/wiki_77\n",
            "Document processed\n",
            "12005.064839363098\n",
            "/content/drive/MyDrive/Colab Notebooks/spanish-morphology/data/text/AA/wiki_73\n",
            "Document processed\n",
            "12222.021906375885\n",
            "/content/drive/MyDrive/Colab Notebooks/spanish-morphology/data/text/AA/wiki_72\n",
            "Document processed\n",
            "12428.198823213577\n",
            "/content/drive/MyDrive/Colab Notebooks/spanish-morphology/data/text/AA/wiki_71\n",
            "Document processed\n",
            "12645.650955677032\n",
            "/content/drive/MyDrive/Colab Notebooks/spanish-morphology/data/text/AA/wiki_69\n",
            "Document processed\n",
            "12853.105809688568\n",
            "/content/drive/MyDrive/Colab Notebooks/spanish-morphology/data/text/AA/wiki_67\n",
            "Document processed\n",
            "13037.673188447952\n",
            "/content/drive/MyDrive/Colab Notebooks/spanish-morphology/data/text/AA/wiki_70\n",
            "Document processed\n",
            "13239.55268406868\n",
            "/content/drive/MyDrive/Colab Notebooks/spanish-morphology/data/text/AA/wiki_63\n",
            "Document processed\n",
            "13451.017823457718\n",
            "/content/drive/MyDrive/Colab Notebooks/spanish-morphology/data/text/AA/wiki_68\n",
            "Document processed\n",
            "13657.503722667694\n",
            "/content/drive/MyDrive/Colab Notebooks/spanish-morphology/data/text/AA/wiki_64\n",
            "Document processed\n",
            "13847.330880641937\n",
            "/content/drive/MyDrive/Colab Notebooks/spanish-morphology/data/text/AA/wiki_66\n",
            "Document processed\n",
            "14059.07657456398\n",
            "/content/drive/MyDrive/Colab Notebooks/spanish-morphology/data/text/AA/wiki_65\n",
            "Document processed\n",
            "14277.382133960724\n",
            "/content/drive/MyDrive/Colab Notebooks/spanish-morphology/data/text/AA/wiki_61\n",
            "Document processed\n",
            "14495.922037363052\n",
            "/content/drive/MyDrive/Colab Notebooks/spanish-morphology/data/text/AA/wiki_62\n",
            "Document processed\n",
            "14700.3176882267\n",
            "/content/drive/MyDrive/Colab Notebooks/spanish-morphology/data/text/AA/wiki_58\n",
            "Document processed\n",
            "14922.994863271713\n",
            "/content/drive/MyDrive/Colab Notebooks/spanish-morphology/data/text/AA/wiki_59\n",
            "Document processed\n",
            "15166.568976163864\n",
            "/content/drive/MyDrive/Colab Notebooks/spanish-morphology/data/text/AA/wiki_95\n",
            "Document processed\n",
            "15407.030302524567\n",
            "/content/drive/MyDrive/Colab Notebooks/spanish-morphology/data/text/AA/wiki_96\n",
            "Document processed\n",
            "15642.006429195404\n",
            "/content/drive/MyDrive/Colab Notebooks/spanish-morphology/data/text/AA/wiki_99\n",
            "Document processed\n",
            "15868.510902404785\n",
            "/content/drive/MyDrive/Colab Notebooks/spanish-morphology/data/text/AA/wiki_94\n",
            "Document processed\n",
            "16092.535868167877\n",
            "/content/drive/MyDrive/Colab Notebooks/spanish-morphology/data/text/AA/wiki_98\n",
            "Document processed\n",
            "16302.057301282883\n",
            "/content/drive/MyDrive/Colab Notebooks/spanish-morphology/data/text/AA/wiki_93\n",
            "Document processed\n",
            "16511.01971721649\n",
            "/content/drive/MyDrive/Colab Notebooks/spanish-morphology/data/text/AA/wiki_97\n",
            "Document processed\n",
            "16735.272620677948\n",
            "/content/drive/MyDrive/Colab Notebooks/spanish-morphology/data/text/AA/wiki_92\n",
            "Document processed\n",
            "16963.310092926025\n",
            "/content/drive/MyDrive/Colab Notebooks/spanish-morphology/data/text/AA/wiki_91\n",
            "Document processed\n",
            "17178.57021379471\n",
            "/content/drive/MyDrive/Colab Notebooks/spanish-morphology/data/text/AA/wiki_90\n",
            "Document processed\n",
            "17400.561169862747\n",
            "/content/drive/MyDrive/Colab Notebooks/spanish-morphology/data/text/AA/wiki_86\n",
            "Document processed\n",
            "17617.132125616074\n"
          ]
        }
      ]
    },
    {
      "cell_type": "markdown",
      "source": [
        "## Download datasets as csv"
      ],
      "metadata": {
        "id": "f19dy6pNRYa2"
      }
    },
    {
      "cell_type": "code",
      "source": [
        "prefix_dataset.to_csv(\"/content/drive/MyDrive/Colab Notebooks/spanish-morphology/data/prefix_dataset.csv\", encoding=\"utf-8\")"
      ],
      "metadata": {
        "id": "UafNzlk2JtPR"
      },
      "execution_count": null,
      "outputs": []
    },
    {
      "cell_type": "code",
      "source": [
        "suffix_dataset.to_csv(\"/content/drive/MyDrive/Colab Notebooks/spanish-morphology/data/suffix_dataset.csv\", encoding=\"utf-8\")"
      ],
      "metadata": {
        "id": "HFq5BEL3THfc"
      },
      "execution_count": null,
      "outputs": []
    }
  ]
}